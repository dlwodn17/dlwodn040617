{
  "nbformat": 4,
  "nbformat_minor": 0,
  "metadata": {
    "colab": {
      "name": "뉴턴랩슨법.ipynb",
      "provenance": [],
      "authorship_tag": "ABX9TyMrhQxtSFNNT7Tv3PwSLFpz",
      "include_colab_link": true
    },
    "kernelspec": {
      "name": "python3",
      "display_name": "Python 3"
    },
    "language_info": {
      "name": "python"
    }
  },
  "cells": [
    {
      "cell_type": "markdown",
      "metadata": {
        "id": "view-in-github",
        "colab_type": "text"
      },
      "source": [
        "<a href=\"https://colab.research.google.com/github/hollollollollo/dlwodn040617/blob/main/%EB%89%B4%ED%84%B4%EB%9E%A9%EC%8A%A8%EB%B2%95.ipynb\" target=\"_parent\"><img src=\"https://colab.research.google.com/assets/colab-badge.svg\" alt=\"Open In Colab\"/></a>"
      ]
    },
    {
      "cell_type": "markdown",
      "source": [
        "#  뉴턴 - 랩슨법\n",
        " ## - 최적해 구하기"
      ],
      "metadata": {
        "id": "UlmqyKnExTxh"
      }
    },
    {
      "cell_type": "code",
      "source": [
        "def f(x):\n",
        "    z = x**2 - 120\n",
        "    return(z)"
      ],
      "metadata": {
        "id": "hZr5lhJdV6Mc"
      },
      "execution_count": 39,
      "outputs": []
    },
    {
      "cell_type": "code",
      "source": [
        "h = 0.0000000001 \n",
        "epsilon = 0.000000001\n",
        "i = 1\n",
        "xt = 1500"
      ],
      "metadata": {
        "id": "29YhDlIzYrM6"
      },
      "execution_count": 40,
      "outputs": []
    },
    {
      "cell_type": "code",
      "source": [
        "while 1 == True:\n",
        "    ftn_drv = (f(xt+h) - f(xt))/h\n",
        "\n",
        "    xt1 = xt - f(xt)/ftn_drv\n",
        "\n",
        "    dist = abs(xt - xt1)\n",
        "\n",
        "    print(\"x의 값 = \",xt1, \"   최적해와의 차이 = \", dist)\n",
        "\n",
        "    if dist <= epsilon:\n",
        "        break\n",
        "    else:\n",
        "        xt = xt1\n",
        "        i += 1\n"
      ],
      "metadata": {
        "colab": {
          "base_uri": "https://localhost:8080/"
        },
        "id": "iGVyAkxcZqHY",
        "outputId": "2fb07ae8-2e45-4c73-ec42-c21428a62cb8"
      },
      "execution_count": 41,
      "outputs": [
        {
          "output_type": "stream",
          "name": "stdout",
          "text": [
            "x의 값 =  750.9177503934511    최적해와의 차이 =  749.0822496065489\n",
            "x의 값 =  375.81009937608087    최적해와의 차이 =  375.10765101737024\n",
            "x의 값 =  188.0249061029308    최적해와의 차이 =  187.78519327315007\n",
            "x의 값 =  94.3245025388353    최적해와의 차이 =  93.7004035640955\n",
            "x의 값 =  47.80244093297955    최적해와의 차이 =  46.522061605855754\n",
            "x의 값 =  25.15667101883793    최적해와의 차이 =  22.64576991414162\n",
            "x의 값 =  14.963139155306342    최적해와의 차이 =  10.193531863531588\n",
            "x의 값 =  11.49143221583501    최적해와의 차이 =  3.471706939471332\n",
            "x의 값 =  10.966998917425455    최적해와의 차이 =  0.524433298409555\n",
            "x의 값 =  10.954458345501177    최적해와의 차이 =  0.012540571924278154\n",
            "x의 값 =  10.954451150091899    최적해와의 차이 =  7.1954092781822965e-06\n",
            "x의 값 =  10.954451150103322    최적해와의 차이 =  1.142375083418301e-11\n"
          ]
        }
      ]
    },
    {
      "cell_type": "code",
      "source": [
        "print('반복 횟수 = ', i, \"\\n최적해 X의 값 = \", xt1)"
      ],
      "metadata": {
        "colab": {
          "base_uri": "https://localhost:8080/"
        },
        "id": "di1j6_XHtt65",
        "outputId": "3ad51a64-1e6c-45a5-c0a1-db48016bea4f"
      },
      "execution_count": 42,
      "outputs": [
        {
          "output_type": "stream",
          "name": "stdout",
          "text": [
            "반복 횟수 =  12 \n",
            "최적해 X의 값 =  10.954451150103322\n"
          ]
        }
      ]
    },
    {
      "cell_type": "code",
      "source": [
        ""
      ],
      "metadata": {
        "id": "xfy1K5e1tv7U"
      },
      "execution_count": null,
      "outputs": []
    },
    {
      "cell_type": "code",
      "source": [
        ""
      ],
      "metadata": {
        "id": "6I6Q49S5tx2q"
      },
      "execution_count": null,
      "outputs": []
    },
    {
      "cell_type": "code",
      "source": [
        ""
      ],
      "metadata": {
        "id": "OAsEsZKdtxMy"
      },
      "execution_count": null,
      "outputs": []
    }
  ]
}