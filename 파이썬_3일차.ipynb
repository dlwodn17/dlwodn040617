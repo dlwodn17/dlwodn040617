{
  "nbformat": 4,
  "nbformat_minor": 0,
  "metadata": {
    "colab": {
      "name": "파이썬 3일차.ipynb",
      "provenance": [],
      "authorship_tag": "ABX9TyNfIcNL5iAQbZnpNLxYantx",
      "include_colab_link": true
    },
    "kernelspec": {
      "name": "python3",
      "display_name": "Python 3"
    },
    "language_info": {
      "name": "python"
    }
  },
  "cells": [
    {
      "cell_type": "markdown",
      "metadata": {
        "id": "view-in-github",
        "colab_type": "text"
      },
      "source": [
        "<a href=\"https://colab.research.google.com/github/hollollollollo/dlwodn040617/blob/main/%ED%8C%8C%EC%9D%B4%EC%8D%AC_3%EC%9D%BC%EC%B0%A8.ipynb\" target=\"_parent\"><img src=\"https://colab.research.google.com/assets/colab-badge.svg\" alt=\"Open In Colab\"/></a>"
      ]
    },
    {
      "cell_type": "code",
      "metadata": {
        "colab": {
          "base_uri": "https://localhost:8080/"
        },
        "id": "--jmuntzWcRN",
        "outputId": "aeff1738-b124-45d9-a0f0-c0423db89d2d"
      },
      "source": [
        "a,b,c = 1,2,3 #다중할당 가능. 그냥 값임\n",
        "a"
      ],
      "execution_count": 1,
      "outputs": [
        {
          "output_type": "execute_result",
          "data": {
            "text/plain": [
              "1"
            ]
          },
          "metadata": {
            "tags": []
          },
          "execution_count": 1
        }
      ]
    },
    {
      "cell_type": "code",
      "metadata": {
        "colab": {
          "base_uri": "https://localhost:8080/"
        },
        "id": "IZ5VeB_zXS-1",
        "outputId": "228e21de-8b21-4ac4-e498-852e951dcc15"
      },
      "source": [
        "b"
      ],
      "execution_count": 2,
      "outputs": [
        {
          "output_type": "execute_result",
          "data": {
            "text/plain": [
              "2"
            ]
          },
          "metadata": {
            "tags": []
          },
          "execution_count": 2
        }
      ]
    },
    {
      "cell_type": "code",
      "metadata": {
        "colab": {
          "base_uri": "https://localhost:8080/"
        },
        "id": "58F1SgHXXWsX",
        "outputId": "da346390-493d-4eca-958b-b1e96f29685d"
      },
      "source": [
        "list1=[1,2,3]\n",
        "list2 =tuple(list1)\n",
        "list2"
      ],
      "execution_count": 3,
      "outputs": [
        {
          "output_type": "execute_result",
          "data": {
            "text/plain": [
              "(1, 2, 3)"
            ]
          },
          "metadata": {
            "tags": []
          },
          "execution_count": 3
        }
      ]
    },
    {
      "cell_type": "markdown",
      "metadata": {
        "id": "kI1Mc0kLYNx1"
      },
      "source": [
        "##딕셔너리(Dictinary)"
      ]
    },
    {
      "cell_type": "code",
      "metadata": {
        "colab": {
          "base_uri": "https://localhost:8080/"
        },
        "id": "0ouDwMQvXzT4",
        "outputId": "455ff212-6576-4f87-950e-8fa16398752e"
      },
      "source": [
        "f = {'사과':10, '배':20, '귤':30, '수박':40} #키 중복허용 X\n",
        "f"
      ],
      "execution_count": 5,
      "outputs": [
        {
          "output_type": "execute_result",
          "data": {
            "text/plain": [
              "{'귤': 30, '배': 20, '사과': 10, '수박': 40}"
            ]
          },
          "metadata": {
            "tags": []
          },
          "execution_count": 5
        }
      ]
    },
    {
      "cell_type": "code",
      "metadata": {
        "colab": {
          "base_uri": "https://localhost:8080/"
        },
        "id": "VDS2mxzjYwLU",
        "outputId": "84cc02a1-8449-4dc3-dc1b-c192b2077854"
      },
      "source": [
        "type(f)"
      ],
      "execution_count": 6,
      "outputs": [
        {
          "output_type": "execute_result",
          "data": {
            "text/plain": [
              "dict"
            ]
          },
          "metadata": {
            "tags": []
          },
          "execution_count": 6
        }
      ]
    },
    {
      "cell_type": "code",
      "metadata": {
        "colab": {
          "base_uri": "https://localhost:8080/"
        },
        "id": "ImML_3fjY2Xs",
        "outputId": "aa797a49-e60d-444d-8a1e-3d405c9a4e51"
      },
      "source": [
        "f['귤']"
      ],
      "execution_count": 8,
      "outputs": [
        {
          "output_type": "execute_result",
          "data": {
            "text/plain": [
              "30"
            ]
          },
          "metadata": {
            "tags": []
          },
          "execution_count": 8
        }
      ]
    },
    {
      "cell_type": "code",
      "metadata": {
        "colab": {
          "base_uri": "https://localhost:8080/",
          "height": 171
        },
        "id": "qtA-nSsyY9Mu",
        "outputId": "02a89125-2fe6-4dda-f0c6-c02a08012848"
      },
      "source": [
        "f['참외'] #없는키 오류"
      ],
      "execution_count": 10,
      "outputs": [
        {
          "output_type": "error",
          "ename": "KeyError",
          "evalue": "ignored",
          "traceback": [
            "\u001b[0;31m---------------------------------------------------------------------------\u001b[0m",
            "\u001b[0;31mKeyError\u001b[0m                                  Traceback (most recent call last)",
            "\u001b[0;32m<ipython-input-10-9cf938f77e81>\u001b[0m in \u001b[0;36m<module>\u001b[0;34m()\u001b[0m\n\u001b[0;32m----> 1\u001b[0;31m \u001b[0mf\u001b[0m\u001b[0;34m[\u001b[0m\u001b[0;34m'참외'\u001b[0m\u001b[0;34m]\u001b[0m\u001b[0;34m\u001b[0m\u001b[0;34m\u001b[0m\u001b[0m\n\u001b[0m",
            "\u001b[0;31mKeyError\u001b[0m: '참외'"
          ]
        }
      ]
    },
    {
      "cell_type": "code",
      "metadata": {
        "id": "BUsFp_KNZFt_"
      },
      "source": [
        "f['귤'] = 100 #뭐 = 값"
      ],
      "execution_count": 13,
      "outputs": []
    },
    {
      "cell_type": "code",
      "metadata": {
        "colab": {
          "base_uri": "https://localhost:8080/"
        },
        "id": "V-OtbbRcZZyI",
        "outputId": "4bcf8fa7-cabc-4408-ba37-a345bedadaa0"
      },
      "source": [
        "f['귤']"
      ],
      "execution_count": 12,
      "outputs": [
        {
          "output_type": "execute_result",
          "data": {
            "text/plain": [
              "100"
            ]
          },
          "metadata": {
            "tags": []
          },
          "execution_count": 12
        }
      ]
    },
    {
      "cell_type": "code",
      "metadata": {
        "colab": {
          "base_uri": "https://localhost:8080/"
        },
        "id": "cbieO8NzZdN5",
        "outputId": "d1177c58-c38e-4fdb-8d0c-4b4825eb3064"
      },
      "source": [
        "f['참외'] = 120   #없는 키에 값을 추가할 수 있음\n",
        "f['참외']"
      ],
      "execution_count": 14,
      "outputs": [
        {
          "output_type": "execute_result",
          "data": {
            "text/plain": [
              "120"
            ]
          },
          "metadata": {
            "tags": []
          },
          "execution_count": 14
        }
      ]
    },
    {
      "cell_type": "code",
      "metadata": {
        "colab": {
          "base_uri": "https://localhost:8080/"
        },
        "id": "eRV7zW-lZsbt",
        "outputId": "628b0310-0f29-45c9-b04b-74f417590260"
      },
      "source": [
        "f"
      ],
      "execution_count": 15,
      "outputs": [
        {
          "output_type": "execute_result",
          "data": {
            "text/plain": [
              "{'귤': 100, '배': 20, '사과': 10, '수박': 40, '참외': 120}"
            ]
          },
          "metadata": {
            "tags": []
          },
          "execution_count": 15
        }
      ]
    },
    {
      "cell_type": "code",
      "metadata": {
        "colab": {
          "base_uri": "https://localhost:8080/"
        },
        "id": "-lQfZr3hZ1GK",
        "outputId": "59f097d7-0414-401a-bdc6-71b34266bed9"
      },
      "source": [
        "f.pop('귤') #값 출력하고 딕셔너리 상에서 삭제됨."
      ],
      "execution_count": 16,
      "outputs": [
        {
          "output_type": "execute_result",
          "data": {
            "text/plain": [
              "100"
            ]
          },
          "metadata": {
            "tags": []
          },
          "execution_count": 16
        }
      ]
    },
    {
      "cell_type": "code",
      "metadata": {
        "colab": {
          "base_uri": "https://localhost:8080/"
        },
        "id": "qor9s3cvaDqy",
        "outputId": "5d32b4bf-dfd0-410b-a7e2-4c0eeefc0418"
      },
      "source": [
        "f"
      ],
      "execution_count": 17,
      "outputs": [
        {
          "output_type": "execute_result",
          "data": {
            "text/plain": [
              "{'배': 20, '사과': 10, '수박': 40, '참외': 120}"
            ]
          },
          "metadata": {
            "tags": []
          },
          "execution_count": 17
        }
      ]
    },
    {
      "cell_type": "code",
      "metadata": {
        "colab": {
          "base_uri": "https://localhost:8080/",
          "height": 35
        },
        "id": "ldMgk6r-aIlN",
        "outputId": "1aa46109-abd0-4ade-be47-bd2be1d41116"
      },
      "source": [
        "f.get('키위','없음') #에러 안남. 콤마 뒤는 기본값."
      ],
      "execution_count": 20,
      "outputs": [
        {
          "output_type": "execute_result",
          "data": {
            "application/vnd.google.colaboratory.intrinsic+json": {
              "type": "string"
            },
            "text/plain": [
              "'없음'"
            ]
          },
          "metadata": {
            "tags": []
          },
          "execution_count": 20
        }
      ]
    },
    {
      "cell_type": "code",
      "metadata": {
        "colab": {
          "base_uri": "https://localhost:8080/"
        },
        "id": "akpircCjavq-",
        "outputId": "0d834ed9-52ee-48cb-9e11-131c95db6f23"
      },
      "source": [
        "f.keys() #키 값만 뽑아줌."
      ],
      "execution_count": 21,
      "outputs": [
        {
          "output_type": "execute_result",
          "data": {
            "text/plain": [
              "dict_keys(['사과', '배', '수박', '참외'])"
            ]
          },
          "metadata": {
            "tags": []
          },
          "execution_count": 21
        }
      ]
    },
    {
      "cell_type": "code",
      "metadata": {
        "colab": {
          "base_uri": "https://localhost:8080/"
        },
        "id": "mdwTASZ5bQXD",
        "outputId": "5e916d7f-feab-4e99-8108-bc5a6c15ee53"
      },
      "source": [
        "f.values() #밸류 값만 뽑아줌."
      ],
      "execution_count": 22,
      "outputs": [
        {
          "output_type": "execute_result",
          "data": {
            "text/plain": [
              "dict_values([10, 20, 40, 120])"
            ]
          },
          "metadata": {
            "tags": []
          },
          "execution_count": 22
        }
      ]
    },
    {
      "cell_type": "code",
      "metadata": {
        "colab": {
          "base_uri": "https://localhost:8080/"
        },
        "id": "wT0MAJNobZWb",
        "outputId": "cf7f5922-bb82-4e5f-b68e-b435cf71507b"
      },
      "source": [
        "f.items() #키와 밸류를 튜플로 묶어서 리턴."
      ],
      "execution_count": 23,
      "outputs": [
        {
          "output_type": "execute_result",
          "data": {
            "text/plain": [
              "dict_items([('사과', 10), ('배', 20), ('수박', 40), ('참외', 120)])"
            ]
          },
          "metadata": {
            "tags": []
          },
          "execution_count": 23
        }
      ]
    },
    {
      "cell_type": "markdown",
      "metadata": {
        "id": "T3Rwuz0kcORG"
      },
      "source": [
        "##집합(set)"
      ]
    },
    {
      "cell_type": "code",
      "metadata": {
        "colab": {
          "base_uri": "https://localhost:8080/"
        },
        "id": "CEG_lggGbg5V",
        "outputId": "7d2c176b-bd10-4dbf-a319-215f71ecf984"
      },
      "source": [
        "s1=set([1,2,3,3,3,3,3]) #중복 값은 집합에 하나만 들어감. 순서없음(인덱스번호 X)\n",
        "s1"
      ],
      "execution_count": 28,
      "outputs": [
        {
          "output_type": "execute_result",
          "data": {
            "text/plain": [
              "{1, 2, 3}"
            ]
          },
          "metadata": {
            "tags": []
          },
          "execution_count": 28
        }
      ]
    },
    {
      "cell_type": "code",
      "metadata": {
        "colab": {
          "base_uri": "https://localhost:8080/"
        },
        "id": "IUMGgcs-cm_c",
        "outputId": "0fff903d-410e-4c0b-c815-d636407b179e"
      },
      "source": [
        "list(s1)"
      ],
      "execution_count": 25,
      "outputs": [
        {
          "output_type": "execute_result",
          "data": {
            "text/plain": [
              "[1, 2, 3]"
            ]
          },
          "metadata": {
            "tags": []
          },
          "execution_count": 25
        }
      ]
    },
    {
      "cell_type": "code",
      "metadata": {
        "colab": {
          "base_uri": "https://localhost:8080/"
        },
        "id": "y0vrgYd9cxgD",
        "outputId": "5baef2e3-9f81-4e24-b8f9-ea25d538b2a3"
      },
      "source": [
        "tuple(s1)"
      ],
      "execution_count": 26,
      "outputs": [
        {
          "output_type": "execute_result",
          "data": {
            "text/plain": [
              "(1, 2, 3)"
            ]
          },
          "metadata": {
            "tags": []
          },
          "execution_count": 26
        }
      ]
    },
    {
      "cell_type": "code",
      "metadata": {
        "colab": {
          "base_uri": "https://localhost:8080/"
        },
        "id": "jX-ilrgIc2Ef",
        "outputId": "ea5c2786-1584-4f2f-8174-1e9a61a1741f"
      },
      "source": [
        "dict(x=10, y=20) #키와 밸류의 형식이 필요!"
      ],
      "execution_count": 27,
      "outputs": [
        {
          "output_type": "execute_result",
          "data": {
            "text/plain": [
              "{'x': 10, 'y': 20}"
            ]
          },
          "metadata": {
            "tags": []
          },
          "execution_count": 27
        }
      ]
    },
    {
      "cell_type": "code",
      "metadata": {
        "colab": {
          "base_uri": "https://localhost:8080/"
        },
        "id": "lrSfiIH9c_DX",
        "outputId": "c1120f16-1ad3-45d9-ef92-adec3f879f33"
      },
      "source": [
        "s1"
      ],
      "execution_count": 29,
      "outputs": [
        {
          "output_type": "execute_result",
          "data": {
            "text/plain": [
              "{1, 2, 3}"
            ]
          },
          "metadata": {
            "tags": []
          },
          "execution_count": 29
        }
      ]
    },
    {
      "cell_type": "code",
      "metadata": {
        "colab": {
          "base_uri": "https://localhost:8080/"
        },
        "id": "V3L4NjqLd09h",
        "outputId": "a639ecb6-8862-4615-b329-4b1f643b100f"
      },
      "source": [
        "s1.update([10,20,30]) #값 여러개 추가\n",
        "s1"
      ],
      "execution_count": 30,
      "outputs": [
        {
          "output_type": "execute_result",
          "data": {
            "text/plain": [
              "{1, 2, 3, 10, 20, 30}"
            ]
          },
          "metadata": {
            "tags": []
          },
          "execution_count": 30
        }
      ]
    },
    {
      "cell_type": "code",
      "metadata": {
        "id": "UN6FqkFWd6NR"
      },
      "source": [
        "s2 = {1,30,70,100}\n"
      ],
      "execution_count": 32,
      "outputs": []
    },
    {
      "cell_type": "code",
      "metadata": {
        "colab": {
          "base_uri": "https://localhost:8080/"
        },
        "id": "Ss8dnbbueIUh",
        "outputId": "c66c44ea-98b3-418a-d8b6-97426d61b417"
      },
      "source": [
        "s1 | s2 #합집합"
      ],
      "execution_count": 33,
      "outputs": [
        {
          "output_type": "execute_result",
          "data": {
            "text/plain": [
              "{1, 2, 3, 10, 20, 30, 70, 100}"
            ]
          },
          "metadata": {
            "tags": []
          },
          "execution_count": 33
        }
      ]
    },
    {
      "cell_type": "code",
      "metadata": {
        "colab": {
          "base_uri": "https://localhost:8080/"
        },
        "id": "AuupCZzfeNC4",
        "outputId": "e30c9e43-0cb5-4367-9c42-d538fa592e04"
      },
      "source": [
        "s1 & s2 #교집합"
      ],
      "execution_count": 34,
      "outputs": [
        {
          "output_type": "execute_result",
          "data": {
            "text/plain": [
              "{1, 30}"
            ]
          },
          "metadata": {
            "tags": []
          },
          "execution_count": 34
        }
      ]
    },
    {
      "cell_type": "code",
      "metadata": {
        "colab": {
          "base_uri": "https://localhost:8080/"
        },
        "id": "lGYiopeYeRLI",
        "outputId": "4e1eee28-cb74-4c3c-8e0a-b742d920e335"
      },
      "source": [
        "s1 - s2 #차집합"
      ],
      "execution_count": 35,
      "outputs": [
        {
          "output_type": "execute_result",
          "data": {
            "text/plain": [
              "{2, 3, 10, 20}"
            ]
          },
          "metadata": {
            "tags": []
          },
          "execution_count": 35
        }
      ]
    },
    {
      "cell_type": "code",
      "metadata": {
        "colab": {
          "base_uri": "https://localhost:8080/"
        },
        "id": "S3InTLpVedYZ",
        "outputId": "0b9a51a8-58fa-4203-ac18-d5d00f0fafb6"
      },
      "source": [
        "s2 - s1 #차집합2"
      ],
      "execution_count": 36,
      "outputs": [
        {
          "output_type": "execute_result",
          "data": {
            "text/plain": [
              "{70, 100}"
            ]
          },
          "metadata": {
            "tags": []
          },
          "execution_count": 36
        }
      ]
    },
    {
      "cell_type": "markdown",
      "metadata": {
        "id": "d6pldhiQey9E"
      },
      "source": [
        "##제어문 (조건문=분기문)"
      ]
    },
    {
      "cell_type": "code",
      "metadata": {
        "colab": {
          "base_uri": "https://localhost:8080/"
        },
        "id": "NsqLrTJUefAz",
        "outputId": "1deeecb5-0242-411f-db69-2f9326416dff"
      },
      "source": [
        "돈 = 1000\n",
        "\n",
        "if 돈 <= 1000:\n",
        "  print('버스')\n",
        "else: \n",
        "  print('걷기')"
      ],
      "execution_count": 38,
      "outputs": [
        {
          "output_type": "stream",
          "text": [
            "버스\n"
          ],
          "name": "stdout"
        }
      ]
    },
    {
      "cell_type": "code",
      "metadata": {
        "colab": {
          "base_uri": "https://localhost:8080/"
        },
        "id": "iLBQ-u26hr66",
        "outputId": "1a760404-9edf-492e-f52a-8906772d7f8a"
      },
      "source": [
        "if 돈 > 10000:\n",
        "  print('택시')\n",
        "elif 돈 >= 1000:\n",
        "  print('버스')\n",
        "else: \n",
        "  print('걷기')"
      ],
      "execution_count": 39,
      "outputs": [
        {
          "output_type": "stream",
          "text": [
            "버스\n"
          ],
          "name": "stdout"
        }
      ]
    },
    {
      "cell_type": "code",
      "metadata": {
        "id": "3EJm_6yNiSiq"
      },
      "source": [
        "학생 = True #학생이다."
      ],
      "execution_count": 40,
      "outputs": []
    },
    {
      "cell_type": "code",
      "metadata": {
        "colab": {
          "base_uri": "https://localhost:8080/"
        },
        "id": "YR581h4oidtb",
        "outputId": "c808a9b3-e6c2-4ec3-a161-ccbf9a36d160"
      },
      "source": [
        "if (돈 >=1000) and 학생:\n",
        "  print('버스')\n",
        "elif (돈 == 1000) and not 학생:\n",
        "  print('잔액이 부족합니다')\n",
        "else:\n",
        "  print(걷기)"
      ],
      "execution_count": 42,
      "outputs": [
        {
          "output_type": "stream",
          "text": [
            "버스\n"
          ],
          "name": "stdout"
        }
      ]
    },
    {
      "cell_type": "code",
      "metadata": {
        "id": "vVVuy9pQjWMP"
      },
      "source": [
        "학생 = False #학생이 아니다."
      ],
      "execution_count": 43,
      "outputs": []
    },
    {
      "cell_type": "code",
      "metadata": {
        "colab": {
          "base_uri": "https://localhost:8080/"
        },
        "id": "7wpE0HKJjukY",
        "outputId": "1fd31490-003f-4023-e0e1-b2fcb3d74ccf"
      },
      "source": [
        "if (돈 >=1000) and 학생:\n",
        "  print('버스')\n",
        "elif (돈 == 1000) and not 학생:\n",
        "  print('잔액이 부족합니다')\n",
        "else:\n",
        "  print(걷기)"
      ],
      "execution_count": 44,
      "outputs": [
        {
          "output_type": "stream",
          "text": [
            "잔액이 부족합니다\n"
          ],
          "name": "stdout"
        }
      ]
    },
    {
      "cell_type": "code",
      "metadata": {
        "id": "Bh_7FdJ-kAbB"
      },
      "source": [
        "age = 18"
      ],
      "execution_count": 47,
      "outputs": []
    },
    {
      "cell_type": "code",
      "metadata": {
        "colab": {
          "base_uri": "https://localhost:8080/"
        },
        "id": "GzYwG6G9kChN",
        "outputId": "fddd089b-9736-448c-c9aa-3b507e092679"
      },
      "source": [
        "if age >= 100:\n",
        "  print('초고령')\n",
        "elif age >= 60:\n",
        "  print('고령')\n",
        "elif age >= 40:\n",
        "  print('중년')\n",
        "elif age >= 20:\n",
        "  print('청년')\n",
        "else:\n",
        "  print('미성년')"
      ],
      "execution_count": 48,
      "outputs": [
        {
          "output_type": "stream",
          "text": [
            "미성년\n"
          ],
          "name": "stdout"
        }
      ]
    },
    {
      "cell_type": "code",
      "metadata": {
        "id": "QM3k9iDbki3D"
      },
      "source": [
        ""
      ],
      "execution_count": null,
      "outputs": []
    }
  ]
}