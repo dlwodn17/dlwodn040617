{
  "nbformat": 4,
  "nbformat_minor": 0,
  "metadata": {
    "colab": {
      "name": "파이썬 2일차.ipynb",
      "provenance": [],
      "authorship_tag": "ABX9TyNOaaT13W/W6xH1w3KbDkYU",
      "include_colab_link": true
    },
    "kernelspec": {
      "name": "python3",
      "display_name": "Python 3"
    },
    "language_info": {
      "name": "python"
    }
  },
  "cells": [
    {
      "cell_type": "markdown",
      "metadata": {
        "id": "view-in-github",
        "colab_type": "text"
      },
      "source": [
        "<a href=\"https://colab.research.google.com/github/hollollollollo/dlwodn040617/blob/main/%ED%8C%8C%EC%9D%B4%EC%8D%AC_2%EC%9D%BC%EC%B0%A8.ipynb\" target=\"_parent\"><img src=\"https://colab.research.google.com/assets/colab-badge.svg\" alt=\"Open In Colab\"/></a>"
      ]
    },
    {
      "cell_type": "markdown",
      "metadata": {
        "id": "X8_earO2VrhR"
      },
      "source": [
        "##리스트&메소드\n",
        "\n",
        "\n"
      ]
    },
    {
      "cell_type": "code",
      "metadata": {
        "colab": {
          "base_uri": "https://localhost:8080/"
        },
        "id": "TychTCs3ULT5",
        "outputId": "a842ed45-dd1d-442c-8f23-38d5bfebdff1"
      },
      "source": [
        "num=[1,2,3]\n",
        "num"
      ],
      "execution_count": 1,
      "outputs": [
        {
          "output_type": "execute_result",
          "data": {
            "text/plain": [
              "[1, 2, 3]"
            ]
          },
          "metadata": {
            "tags": []
          },
          "execution_count": 1
        }
      ]
    },
    {
      "cell_type": "code",
      "metadata": {
        "colab": {
          "base_uri": "https://localhost:8080/"
        },
        "id": "m2PaS5whV8lf",
        "outputId": "b1107537-e5ad-47e8-8319-7c03d7da788c"
      },
      "source": [
        "num.append([1,2,3])\n",
        "num"
      ],
      "execution_count": 4,
      "outputs": [
        {
          "output_type": "execute_result",
          "data": {
            "text/plain": [
              "[1, 2, 3, [1, 2, 3], [1, 2, 3], [1, 2, 3]]"
            ]
          },
          "metadata": {
            "tags": []
          },
          "execution_count": 4
        }
      ]
    },
    {
      "cell_type": "code",
      "metadata": {
        "colab": {
          "base_uri": "https://localhost:8080/"
        },
        "id": "shza9ZBTWXrN",
        "outputId": "b0b426ec-5d43-4740-e75d-87dd14f9b7be"
      },
      "source": [
        "num[3][2]"
      ],
      "execution_count": 5,
      "outputs": [
        {
          "output_type": "execute_result",
          "data": {
            "text/plain": [
              "3"
            ]
          },
          "metadata": {
            "tags": []
          },
          "execution_count": 5
        }
      ]
    },
    {
      "cell_type": "code",
      "metadata": {
        "id": "CDgHSXPEWySh"
      },
      "source": [
        "num.remove([1,2,3])"
      ],
      "execution_count": 15,
      "outputs": []
    },
    {
      "cell_type": "code",
      "metadata": {
        "colab": {
          "base_uri": "https://localhost:8080/"
        },
        "id": "Xs33eh2WXAJD",
        "outputId": "8767538c-7fa2-42a0-b758-a0b2e9294f2d"
      },
      "source": [
        "num"
      ],
      "execution_count": 9,
      "outputs": [
        {
          "output_type": "execute_result",
          "data": {
            "text/plain": [
              "[1, 2, 3, [1, 2, 3]]"
            ]
          },
          "metadata": {
            "tags": []
          },
          "execution_count": 9
        }
      ]
    },
    {
      "cell_type": "code",
      "metadata": {
        "colab": {
          "base_uri": "https://localhost:8080/"
        },
        "id": "egfhvPGYXBsA",
        "outputId": "4b4b2388-ab8d-4af9-9729-fa80d276b18a"
      },
      "source": [
        "num.extend([10,20])\n",
        "num"
      ],
      "execution_count": 10,
      "outputs": [
        {
          "output_type": "execute_result",
          "data": {
            "text/plain": [
              "[1, 2, 3, [1, 2, 3], 10, 20]"
            ]
          },
          "metadata": {
            "tags": []
          },
          "execution_count": 10
        }
      ]
    },
    {
      "cell_type": "code",
      "metadata": {
        "colab": {
          "base_uri": "https://localhost:8080/"
        },
        "id": "jt8Z_gBJXbJX",
        "outputId": "e86ed28e-d328-4171-a046-a7f0acad9025"
      },
      "source": [
        "num.insert(0,0)\n",
        "num"
      ],
      "execution_count": 11,
      "outputs": [
        {
          "output_type": "execute_result",
          "data": {
            "text/plain": [
              "[0, 1, 2, 3, [1, 2, 3], 10, 20]"
            ]
          },
          "metadata": {
            "tags": []
          },
          "execution_count": 11
        }
      ]
    },
    {
      "cell_type": "code",
      "metadata": {
        "colab": {
          "base_uri": "https://localhost:8080/"
        },
        "id": "5GQTMTd2XtNu",
        "outputId": "5a427c83-4bc9-4af1-f03c-17dd7b8adc2d"
      },
      "source": [
        "### sort=정렬. 리스트 내 원소들의 타입이 같아야함!! reverse=True - 내림차순\n",
        "num.sort(reverse=True)\n",
        "num"
      ],
      "execution_count": 16,
      "outputs": [
        {
          "output_type": "execute_result",
          "data": {
            "text/plain": [
              "[20, 10, 3, 2, 1, 0]"
            ]
          },
          "metadata": {
            "tags": []
          },
          "execution_count": 16
        }
      ]
    },
    {
      "cell_type": "code",
      "metadata": {
        "id": "ylkay_D4X4MZ"
      },
      "source": [
        "num. # tab(shift+tab)"
      ],
      "execution_count": null,
      "outputs": []
    },
    {
      "cell_type": "markdown",
      "metadata": {
        "id": "fGItxqaAaZ63"
      },
      "source": [
        "##튜플"
      ]
    },
    {
      "cell_type": "code",
      "metadata": {
        "id": "5n3MyPdgae_p"
      },
      "source": [
        "t1=('컴퓨터','마우스','키보드')"
      ],
      "execution_count": 18,
      "outputs": []
    },
    {
      "cell_type": "code",
      "metadata": {
        "colab": {
          "base_uri": "https://localhost:8080/"
        },
        "id": "IIhWz_mLat98",
        "outputId": "d7fd5db0-f249-4933-c401-f2d7d5a0d8f1"
      },
      "source": [
        "t1"
      ],
      "execution_count": 19,
      "outputs": [
        {
          "output_type": "execute_result",
          "data": {
            "text/plain": [
              "('컴퓨터', '마우스', '키보드')"
            ]
          },
          "metadata": {
            "tags": []
          },
          "execution_count": 19
        }
      ]
    },
    {
      "cell_type": "code",
      "metadata": {
        "colab": {
          "base_uri": "https://localhost:8080/"
        },
        "id": "UhB6qOsGaz3E",
        "outputId": "a8b47d5f-0e47-41ab-db30-a887c866603b"
      },
      "source": [
        "t1+('모니터',) #튜플에서 원소 하나일때는 콤마를 뒤에 써줘야한다. 그렇지 않을시 문자열로 생성됨"
      ],
      "execution_count": 20,
      "outputs": [
        {
          "output_type": "execute_result",
          "data": {
            "text/plain": [
              "('컴퓨터', '마우스', '키보드', '모니터')"
            ]
          },
          "metadata": {
            "tags": []
          },
          "execution_count": 20
        }
      ]
    },
    {
      "cell_type": "code",
      "metadata": {
        "colab": {
          "base_uri": "https://localhost:8080/"
        },
        "id": "PvzUBUrAb6Ks",
        "outputId": "78a4e00e-bb9c-4edf-9d1a-eb94a4aae1f9"
      },
      "source": [
        "type(t1)"
      ],
      "execution_count": 21,
      "outputs": [
        {
          "output_type": "execute_result",
          "data": {
            "text/plain": [
              "tuple"
            ]
          },
          "metadata": {
            "tags": []
          },
          "execution_count": 21
        }
      ]
    },
    {
      "cell_type": "code",
      "metadata": {
        "id": "GLCxYHwOcdkc"
      },
      "source": [
        ""
      ],
      "execution_count": null,
      "outputs": []
    }
  ]
}