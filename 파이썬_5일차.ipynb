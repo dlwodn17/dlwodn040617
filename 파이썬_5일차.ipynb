{
  "nbformat": 4,
  "nbformat_minor": 0,
  "metadata": {
    "colab": {
      "name": "파이썬 5일차.ipynb",
      "provenance": [],
      "authorship_tag": "ABX9TyPtkPLDkqNO0a0/VZHI8F+D",
      "include_colab_link": true
    },
    "kernelspec": {
      "name": "python3",
      "display_name": "Python 3"
    },
    "language_info": {
      "name": "python"
    }
  },
  "cells": [
    {
      "cell_type": "markdown",
      "metadata": {
        "id": "view-in-github",
        "colab_type": "text"
      },
      "source": [
        "<a href=\"https://colab.research.google.com/github/hollollollollo/dlwodn040617/blob/main/%ED%8C%8C%EC%9D%B4%EC%8D%AC_5%EC%9D%BC%EC%B0%A8.ipynb\" target=\"_parent\"><img src=\"https://colab.research.google.com/assets/colab-badge.svg\" alt=\"Open In Colab\"/></a>"
      ]
    },
    {
      "cell_type": "markdown",
      "metadata": {
        "id": "xVsgondbuVao"
      },
      "source": [
        "##함수\n",
        "\n",
        "학생 5명의 성적을 리스트로 입력받아 점수의 총합, 평균을 리턴하는 함수를 작성\n",
        "\n",
        "* 함수 이름 : fn\n",
        "* parameter : 점수 리스트\n",
        "* return : total, avg"
      ]
    },
    {
      "cell_type": "code",
      "metadata": {
        "id": "ELRvQEOrtqbF"
      },
      "source": [
        "def fn(score):\n",
        "    total = sum(score)\n",
        "    avg = total / len(score)\n",
        "    return total, avg"
      ],
      "execution_count": 1,
      "outputs": []
    },
    {
      "cell_type": "code",
      "metadata": {
        "id": "tfoA05rmwTSp"
      },
      "source": [
        "total,avg = fn([95,90,100,80,70])"
      ],
      "execution_count": 3,
      "outputs": []
    },
    {
      "cell_type": "code",
      "metadata": {
        "colab": {
          "base_uri": "https://localhost:8080/"
        },
        "id": "d8RzpQWoxXM6",
        "outputId": "af4c9da0-b5c9-4a45-d093-60c2c1ddcb89"
      },
      "source": [
        "total"
      ],
      "execution_count": 4,
      "outputs": [
        {
          "output_type": "execute_result",
          "data": {
            "text/plain": [
              "435"
            ]
          },
          "metadata": {
            "tags": []
          },
          "execution_count": 4
        }
      ]
    },
    {
      "cell_type": "code",
      "metadata": {
        "colab": {
          "base_uri": "https://localhost:8080/"
        },
        "id": "WXbH8MLQxs_7",
        "outputId": "6d47ae62-eccb-40ff-aaf4-3b3dc05f6e18"
      },
      "source": [
        "avg"
      ],
      "execution_count": 5,
      "outputs": [
        {
          "output_type": "execute_result",
          "data": {
            "text/plain": [
              "87.0"
            ]
          },
          "metadata": {
            "tags": []
          },
          "execution_count": 5
        }
      ]
    },
    {
      "cell_type": "code",
      "metadata": {
        "colab": {
          "base_uri": "https://localhost:8080/"
        },
        "id": "SsE894Q6xub3",
        "outputId": "ca95809d-1191-47ec-8111-382fc8857146"
      },
      "source": [
        "print('총합 : ',total, ' 평균 : ',avg)"
      ],
      "execution_count": 7,
      "outputs": [
        {
          "output_type": "stream",
          "text": [
            "총합 :  435  평균 :  87.0\n"
          ],
          "name": "stdout"
        }
      ]
    },
    {
      "cell_type": "markdown",
      "metadata": {
        "id": "rRnsEXPVzULh"
      },
      "source": [
        "##lambda(람다) 함수"
      ]
    },
    {
      "cell_type": "code",
      "metadata": {
        "colab": {
          "base_uri": "https://localhost:8080/",
          "height": 35
        },
        "id": "vhPjVcJ1yleK",
        "outputId": "5492ece4-41a4-4e73-e620-eb42d9009c73"
      },
      "source": [
        "(lambda x : '3의 배수' if x % 3 == 0 else '3의 배수가 아님')(12) "
      ],
      "execution_count": 10,
      "outputs": [
        {
          "output_type": "execute_result",
          "data": {
            "application/vnd.google.colaboratory.intrinsic+json": {
              "type": "string"
            },
            "text/plain": [
              "'3의 배수'"
            ]
          },
          "metadata": {
            "tags": []
          },
          "execution_count": 10
        }
      ]
    },
    {
      "cell_type": "code",
      "metadata": {
        "colab": {
          "base_uri": "https://localhost:8080/"
        },
        "id": "0hlUpUqv05JX",
        "outputId": "90f95d37-3248-4157-92ac-81804b6b2f9b"
      },
      "source": [
        "list(map(lambda x: x ** 10, range(11)))"
      ],
      "execution_count": 17,
      "outputs": [
        {
          "output_type": "execute_result",
          "data": {
            "text/plain": [
              "[0,\n",
              " 1,\n",
              " 1024,\n",
              " 59049,\n",
              " 1048576,\n",
              " 9765625,\n",
              " 60466176,\n",
              " 282475249,\n",
              " 1073741824,\n",
              " 3486784401,\n",
              " 10000000000]"
            ]
          },
          "metadata": {
            "tags": []
          },
          "execution_count": 17
        }
      ]
    },
    {
      "cell_type": "code",
      "metadata": {
        "id": "Da_MTlPK1qYM"
      },
      "source": [
        "?map"
      ],
      "execution_count": 13,
      "outputs": []
    },
    {
      "cell_type": "markdown",
      "metadata": {
        "id": "NRIesX273JsU"
      },
      "source": [
        "##패키지"
      ]
    },
    {
      "cell_type": "code",
      "metadata": {
        "id": "OquGV45_16hn"
      },
      "source": [
        ""
      ],
      "execution_count": null,
      "outputs": []
    }
  ]
}