{
  "nbformat": 4,
  "nbformat_minor": 0,
  "metadata": {
    "colab": {
      "name": "파이썬 4일차.ipynb",
      "provenance": [],
      "authorship_tag": "ABX9TyNDxJnZE5A4TglbeO27seym",
      "include_colab_link": true
    },
    "kernelspec": {
      "name": "python3",
      "display_name": "Python 3"
    },
    "language_info": {
      "name": "python"
    }
  },
  "cells": [
    {
      "cell_type": "markdown",
      "metadata": {
        "id": "view-in-github",
        "colab_type": "text"
      },
      "source": [
        "<a href=\"https://colab.research.google.com/github/hollollollollo/dlwodn040617/blob/main/%ED%8C%8C%EC%9D%B4%EC%8D%AC_4%EC%9D%BC%EC%B0%A8.ipynb\" target=\"_parent\"><img src=\"https://colab.research.google.com/assets/colab-badge.svg\" alt=\"Open In Colab\"/></a>"
      ]
    },
    {
      "cell_type": "markdown",
      "metadata": {
        "id": "rbUPYdsKhypQ"
      },
      "source": [
        "##제어문 (반복문)\n",
        "###조건이 True인 동안 실행.\n",
        "\n"
      ]
    },
    {
      "cell_type": "code",
      "metadata": {
        "colab": {
          "base_uri": "https://localhost:8080/"
        },
        "id": "gRbz5KxzhX9j",
        "outputId": "7903cd5f-5f2f-4720-81a9-2d1652482806"
      },
      "source": [
        "a = 1\n",
        "while a <= 10:\n",
        "  print(a)\n",
        "  a = a + 1"
      ],
      "execution_count": 2,
      "outputs": [
        {
          "output_type": "stream",
          "text": [
            "1\n",
            "2\n",
            "3\n",
            "4\n",
            "5\n",
            "6\n",
            "7\n",
            "8\n",
            "9\n",
            "10\n"
          ],
          "name": "stdout"
        }
      ]
    },
    {
      "cell_type": "code",
      "metadata": {
        "colab": {
          "base_uri": "https://localhost:8080/"
        },
        "id": "wLMiZ_agiVk-",
        "outputId": "f6327c3f-61d2-4da2-c719-f39ee310b62d"
      },
      "source": [
        "w = [1,2,3]\n",
        "for i in w:\n",
        "  print(i)"
      ],
      "execution_count": 4,
      "outputs": [
        {
          "output_type": "stream",
          "text": [
            "1\n",
            "2\n",
            "3\n"
          ],
          "name": "stdout"
        }
      ]
    },
    {
      "cell_type": "code",
      "metadata": {
        "colab": {
          "base_uri": "https://localhost:8080/"
        },
        "id": "F6DGGpTyjZQF",
        "outputId": "6755cfa8-280d-4651-a48b-c5ef273b146d"
      },
      "source": [
        "for x in '안녕하세요.':\n",
        "  print(x)"
      ],
      "execution_count": 5,
      "outputs": [
        {
          "output_type": "stream",
          "text": [
            "안\n",
            "녕\n",
            "하\n",
            "세\n",
            "요\n",
            ".\n"
          ],
          "name": "stdout"
        }
      ]
    },
    {
      "cell_type": "markdown",
      "metadata": {
        "id": "ItlRTje6kvlB"
      },
      "source": [
        "##range\n",
        "### 시작값부터 종료값까지 1씩 증가하는 정수를 리턴하는 함수"
      ]
    },
    {
      "cell_type": "code",
      "metadata": {
        "id": "seXR8Hlyjmbm"
      },
      "source": [
        "?range"
      ],
      "execution_count": 6,
      "outputs": []
    },
    {
      "cell_type": "code",
      "metadata": {
        "colab": {
          "base_uri": "https://localhost:8080/"
        },
        "id": "-PGCKXkCjw1p",
        "outputId": "f3b12c58-1043-48f7-d687-dc07e5023e51"
      },
      "source": [
        "list(range(0,10)) #끝 숫자 안 포함."
      ],
      "execution_count": 9,
      "outputs": [
        {
          "output_type": "execute_result",
          "data": {
            "text/plain": [
              "[0, 1, 2, 3, 4, 5, 6, 7, 8, 9]"
            ]
          },
          "metadata": {
            "tags": []
          },
          "execution_count": 9
        }
      ]
    },
    {
      "cell_type": "code",
      "metadata": {
        "colab": {
          "base_uri": "https://localhost:8080/"
        },
        "id": "xV_lMIjfkQp7",
        "outputId": "97b9d794-46d1-4fba-a499-b426e7f7f50d"
      },
      "source": [
        "# 누적 합 구하기.\n",
        "s = 0\n",
        "for i in range(1,11):\n",
        "  s = s + i\n",
        "print(s)"
      ],
      "execution_count": 13,
      "outputs": [
        {
          "output_type": "stream",
          "text": [
            "55\n"
          ],
          "name": "stdout"
        }
      ]
    },
    {
      "cell_type": "code",
      "metadata": {
        "colab": {
          "base_uri": "https://localhost:8080/"
        },
        "id": "QE7AbU2vlNMc",
        "outputId": "a7bcc590-448a-4e38-9af7-7057afb548b7"
      },
      "source": [
        "for i in range(3):\n",
        "  print('안녕')"
      ],
      "execution_count": 15,
      "outputs": [
        {
          "output_type": "stream",
          "text": [
            "안녕\n",
            "안녕\n",
            "안녕\n"
          ],
          "name": "stdout"
        }
      ]
    },
    {
      "cell_type": "code",
      "metadata": {
        "colab": {
          "base_uri": "https://localhost:8080/"
        },
        "id": "iVZ5LcwCmPWs",
        "outputId": "d9715a5f-d9d9-44f1-e623-90e30279cb10"
      },
      "source": [
        "for i in range(1,11):\n",
        "    if i%2 == 0:\n",
        "        print(i)"
      ],
      "execution_count": 17,
      "outputs": [
        {
          "output_type": "stream",
          "text": [
            "2\n",
            "4\n",
            "6\n",
            "8\n",
            "10\n"
          ],
          "name": "stdout"
        }
      ]
    },
    {
      "cell_type": "markdown",
      "metadata": {
        "id": "FITupAjfnLQv"
      },
      "source": [
        "##conprehension"
      ]
    },
    {
      "cell_type": "code",
      "metadata": {
        "id": "IyUkS68tmsxp"
      },
      "source": [
        "new = []\n",
        "old = [1,2,'a',False,3]\n",
        "for i in old:\n",
        "    if type(i) == int:\n",
        "        new.append(i * i)"
      ],
      "execution_count": 20,
      "outputs": []
    },
    {
      "cell_type": "code",
      "metadata": {
        "colab": {
          "base_uri": "https://localhost:8080/"
        },
        "id": "lxzS2TdLn79A",
        "outputId": "17a0bc85-7347-4b6f-eba9-c5121e048591"
      },
      "source": [
        "new"
      ],
      "execution_count": 21,
      "outputs": [
        {
          "output_type": "execute_result",
          "data": {
            "text/plain": [
              "[1, 4, 9]"
            ]
          },
          "metadata": {
            "tags": []
          },
          "execution_count": 21
        }
      ]
    },
    {
      "cell_type": "code",
      "metadata": {
        "id": "pnsRkKTAoprF"
      },
      "source": [
        "new = [i*i for i in old if type(i)==int]"
      ],
      "execution_count": 22,
      "outputs": []
    },
    {
      "cell_type": "code",
      "metadata": {
        "colab": {
          "base_uri": "https://localhost:8080/"
        },
        "id": "DtNYomado5JN",
        "outputId": "e4358cd8-f77b-4da6-b12e-63d94fb86d90"
      },
      "source": [
        "new"
      ],
      "execution_count": 23,
      "outputs": [
        {
          "output_type": "execute_result",
          "data": {
            "text/plain": [
              "[1, 4, 9]"
            ]
          },
          "metadata": {
            "tags": []
          },
          "execution_count": 23
        }
      ]
    },
    {
      "cell_type": "code",
      "metadata": {
        "colab": {
          "base_uri": "https://localhost:8080/"
        },
        "id": "b5-9Xicuo6WK",
        "outputId": "56832233-8b70-4f51-b164-2aa214342b3b"
      },
      "source": [
        "idname = {1:'ee',2:'rr',3:'tt'}\n",
        "nameid = {y:x for x,y in idname.items()}\n",
        "nameid"
      ],
      "execution_count": 25,
      "outputs": [
        {
          "output_type": "execute_result",
          "data": {
            "text/plain": [
              "{'ee': 1, 'rr': 2, 'tt': 3}"
            ]
          },
          "metadata": {
            "tags": []
          },
          "execution_count": 25
        }
      ]
    },
    {
      "cell_type": "code",
      "metadata": {
        "colab": {
          "base_uri": "https://localhost:8080/"
        },
        "id": "6lwKGNVYqwZz",
        "outputId": "57f7df16-8cb1-48d4-cc22-f31f4ec0f450"
      },
      "source": [
        "idname[1] = 'rr'\n",
        "idname[2] = 'ee'\n",
        "idname"
      ],
      "execution_count": 26,
      "outputs": [
        {
          "output_type": "execute_result",
          "data": {
            "text/plain": [
              "{1: 'rr', 2: 'ee', 3: 'tt'}"
            ]
          },
          "metadata": {
            "tags": []
          },
          "execution_count": 26
        }
      ]
    },
    {
      "cell_type": "markdown",
      "metadata": {
        "id": "s326NfLbwk-P"
      },
      "source": [
        "##함수"
      ]
    },
    {
      "cell_type": "code",
      "metadata": {
        "id": "g68zyLYTrZ68"
      },
      "source": [
        "def add(a,b):\n",
        "    return (a-b)"
      ],
      "execution_count": 32,
      "outputs": []
    },
    {
      "cell_type": "code",
      "metadata": {
        "colab": {
          "base_uri": "https://localhost:8080/"
        },
        "id": "jaZUNIR-syM-",
        "outputId": "a5a907a7-35a8-4204-999e-02cbb7f9c93b"
      },
      "source": [
        "x = add(1,2,3)\n",
        "x"
      ],
      "execution_count": 31,
      "outputs": [
        {
          "output_type": "execute_result",
          "data": {
            "text/plain": [
              "9"
            ]
          },
          "metadata": {
            "tags": []
          },
          "execution_count": 31
        }
      ]
    },
    {
      "cell_type": "code",
      "metadata": {
        "colab": {
          "base_uri": "https://localhost:8080/"
        },
        "id": "4eo2t4uMs4uP",
        "outputId": "9a077718-223e-4440-8a80-2b742f656a9d"
      },
      "source": [
        "add(b=10, a=20) #직접 할당."
      ],
      "execution_count": 33,
      "outputs": [
        {
          "output_type": "execute_result",
          "data": {
            "text/plain": [
              "10"
            ]
          },
          "metadata": {
            "tags": []
          },
          "execution_count": 33
        }
      ]
    },
    {
      "cell_type": "code",
      "metadata": {
        "id": "NMrBLpFeuKxt"
      },
      "source": [
        "def print_name(id=100, name='no name'):\n",
        "    print(id,name)"
      ],
      "execution_count": 34,
      "outputs": []
    },
    {
      "cell_type": "code",
      "metadata": {
        "colab": {
          "base_uri": "https://localhost:8080/"
        },
        "id": "lw3xi1UtvSfE",
        "outputId": "7164dee1-6ed7-48e1-cd4f-608d70cb25e4"
      },
      "source": [
        "print_name()"
      ],
      "execution_count": 35,
      "outputs": [
        {
          "output_type": "stream",
          "text": [
            "100 no name\n"
          ],
          "name": "stdout"
        }
      ]
    },
    {
      "cell_type": "code",
      "metadata": {
        "colab": {
          "base_uri": "https://localhost:8080/"
        },
        "id": "czwKxiK8vjSS",
        "outputId": "22d7a09c-2193-4985-daab-3ad09f814cbb"
      },
      "source": [
        "print_name(20000,'dddd')"
      ],
      "execution_count": 37,
      "outputs": [
        {
          "output_type": "stream",
          "text": [
            "20000 dddd\n"
          ],
          "name": "stdout"
        }
      ]
    },
    {
      "cell_type": "code",
      "metadata": {
        "id": "IjgDOPQ5vphv"
      },
      "source": [
        "def pp(a='없음',b='없음'):\n",
        "    print(a,b)\n"
      ],
      "execution_count": 42,
      "outputs": []
    },
    {
      "cell_type": "code",
      "metadata": {
        "colab": {
          "base_uri": "https://localhost:8080/"
        },
        "id": "wgFaqjz4wP6g",
        "outputId": "de5f67f7-adf8-46d6-bd7b-b47e5a5cbcf7"
      },
      "source": [
        "pp('dd','dd')"
      ],
      "execution_count": 40,
      "outputs": [
        {
          "output_type": "stream",
          "text": [
            "dd dd\n"
          ],
          "name": "stdout"
        }
      ]
    },
    {
      "cell_type": "code",
      "metadata": {
        "colab": {
          "base_uri": "https://localhost:8080/"
        },
        "id": "_y9HYOhEwRtq",
        "outputId": "38889617-aed1-4773-afa5-a9143373dae0"
      },
      "source": [
        "pp()"
      ],
      "execution_count": 43,
      "outputs": [
        {
          "output_type": "stream",
          "text": [
            "없음 없음\n"
          ],
          "name": "stdout"
        }
      ]
    },
    {
      "cell_type": "code",
      "metadata": {
        "id": "x8pq_GWmwYVq"
      },
      "source": [
        ""
      ],
      "execution_count": null,
      "outputs": []
    }
  ]
}